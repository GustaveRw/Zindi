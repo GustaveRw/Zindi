{
 "cells": [
  {
   "cell_type": "code",
   "execution_count": null,
   "metadata": {},
   "outputs": [],
   "source": []
  },
  {
   "cell_type": "markdown",
   "metadata": {},
   "source": [
    "Importing Libraries"
   ]
  },
  {
   "cell_type": "code",
   "execution_count": 6,
   "metadata": {},
   "outputs": [],
   "source": [
    "import numpy as np\n",
    "import pandas as pd\n",
    "import sidetable\n",
    "\n",
    "df = pd.read_csv('./Eng_Kin-Paralleldata.csv')"
   ]
  },
  {
   "cell_type": "code",
   "execution_count": 13,
   "metadata": {},
   "outputs": [
    {
     "data": {
      "text/plain": [
       "0              F all back to threading messages by subject\n",
       "1        You will have to restart GIMP for the followin...\n",
       "2        The radio button whose group this widget belon...\n",
       "3                 Print all subdirectories in a directory \n",
       "4        Paste the contents of the clipboard as a new i...\n",
       "                               ...                        \n",
       "20585    Yes  We plan to support major CCD cameras and ...\n",
       "20586    Most likely you did not configure correctly  o...\n",
       "20587        too numerous others to mention who also le...\n",
       "20588      kiten  can deinflect verbs you search for  T...\n",
       "20589    Next you will find a full overview on all comm...\n",
       "Name: English, Length: 20590, dtype: object"
      ]
     },
     "execution_count": 13,
     "metadata": {},
     "output_type": "execute_result"
    }
   ],
   "source": [
    "df['English']"
   ]
  },
  {
   "cell_type": "code",
   "execution_count": null,
   "metadata": {},
   "outputs": [],
   "source": [
    "spec_chars = [\"!\",'\"',\"#\",\"%\",\"&\",\"'\",\"(\",\")\",\n",
    "              \"*\",\"+\",\",\",\"-\",\".\",\"/\",\":\",\";\",\"<\",\n",
    "              \"=\",\">\",\"?\",\"@\",\"[\",\"\\\\\",\"]\",\"^\",\"_\",\n",
    "              \"`\",\"{\",\"|\",\"}\",\"~\",\"–\"]\n",
    "\n",
    "for char in spec_chars:\n",
    "    df['English'] = df['English'].str.replace(char, '')"
   ]
  },
  {
   "cell_type": "code",
   "execution_count": 22,
   "metadata": {},
   "outputs": [
    {
     "data": {
      "text/plain": [
       "0              F all back to threading messages by subject\n",
       "1        You will have to restart GIMP for the followin...\n",
       "2        The radio button whose group this widget belon...\n",
       "3                 Print all subdirectories in a directory \n",
       "4        Paste the contents of the clipboard as a new i...\n",
       "                               ...                        \n",
       "20585    Yes  We plan to support major CCD cameras and ...\n",
       "20586    Most likely you did not configure correctly  o...\n",
       "20587        too numerous others to mention who also le...\n",
       "20588      kiten  can deinflect verbs you search for  T...\n",
       "20589    Next you will find a full overview on all comm...\n",
       "Name: English, Length: 20590, dtype: object"
      ]
     },
     "execution_count": 22,
     "metadata": {},
     "output_type": "execute_result"
    }
   ],
   "source": [
    "df['English']"
   ]
  },
  {
   "cell_type": "code",
   "execution_count": 16,
   "metadata": {},
   "outputs": [
    {
     "data": {
      "text/plain": [
       "0                       Inyuma Kuri Ubutumwa ku Ikivugwaho\n",
       "1        Kuri Ongera utangire kugirango i Amahinduka Ku...\n",
       "2                             Akabuto bya Itsinda iyi Kuri\n",
       "3                Byose Ububiko bwungirije in a bushyinguro\n",
       "4        i Ibigize Bya i Ububikokoporora Nka A Gishya I...\n",
       "                               ...                        \n",
       "20585    . Kuri Gushigikira na na Gushigikira ya: Biren...\n",
       "20586    OYA Kugena Imiterere (Cyangwa OYA Ku Byose?) i...\n",
       "20587              ... Ibindi: Kuri na Bayite Bya Bidakora\n",
       "20588    & kiten; Shakisha ya:. Gushoboza iyi, Ubwoko i...\n",
       "20589    Gushaka A Cyuzuye Incamake ku Byose Amabwiriza...\n",
       "Name: Kinyarwanda, Length: 20590, dtype: object"
      ]
     },
     "execution_count": 16,
     "metadata": {},
     "output_type": "execute_result"
    }
   ],
   "source": [
    "df['Kinyarwanda']"
   ]
  },
  {
   "cell_type": "code",
   "execution_count": null,
   "metadata": {},
   "outputs": [],
   "source": []
  },
  {
   "cell_type": "code",
   "execution_count": null,
   "metadata": {},
   "outputs": [],
   "source": [
    "spec_chars = [\"!\",'\"',\"#\",\"%\",\"&\",\"'\",\"(\",\")\",\n",
    "              \"*\",\"+\",\",\",\"-\",\".\",\"/\",\":\",\";\",\"<\",\n",
    "              \"=\",\">\",\"?\",\"@\",\"[\",\"\\\\\",\"]\",\"^\",\"_\",\n",
    "              \"`\",\"{\",\"|\",\"}\",\"~\",\"–\"]\n",
    "\n",
    "for char in spec_chars:\n",
    "    df['Kinyarwanda'] = df['Kinyarwanda'].str.replace(char, '')"
   ]
  },
  {
   "cell_type": "code",
   "execution_count": 23,
   "metadata": {},
   "outputs": [],
   "source": [
    "df['English'] = df['English'].str.split().str.join(\"\")"
   ]
  },
  {
   "cell_type": "code",
   "execution_count": 25,
   "metadata": {},
   "outputs": [
    {
     "data": {
      "text/plain": [
       "0              F all back to threading messages by subject\n",
       "1        You will have to restart GIMP for the followin...\n",
       "2        The radio button whose group this widget belon...\n",
       "3                  Print all subdirectories in a directory\n",
       "4        Paste the contents of the clipboard as a new i...\n",
       "                               ...                        \n",
       "20585    Yes We plan to support major CCD cameras and f...\n",
       "20586    Most likely you did not configure correctly or...\n",
       "20587    too numerous others to mention who also let me...\n",
       "20588    kiten can deinflect verbs you search for To en...\n",
       "20589    Next you will find a full overview on all comm...\n",
       "Name: English, Length: 20590, dtype: object"
      ]
     },
     "execution_count": 25,
     "metadata": {},
     "output_type": "execute_result"
    }
   ],
   "source": [
    "df['English']"
   ]
  }
 ],
 "metadata": {
  "kernelspec": {
   "display_name": "Python 3.9.12 64-bit",
   "language": "python",
   "name": "python3"
  },
  "language_info": {
   "codemirror_mode": {
    "name": "ipython",
    "version": 3
   },
   "file_extension": ".py",
   "mimetype": "text/x-python",
   "name": "python",
   "nbconvert_exporter": "python",
   "pygments_lexer": "ipython3",
   "version": "3.9.12"
  },
  "orig_nbformat": 4,
  "vscode": {
   "interpreter": {
    "hash": "b2a91f4f17e6cede8eccaf287ca8b3f802552439f6a210f45e241008d42e299f"
   }
  }
 },
 "nbformat": 4,
 "nbformat_minor": 2
}
